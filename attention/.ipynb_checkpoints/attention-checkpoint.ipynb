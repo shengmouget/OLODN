{
 "cells": [
  {
   "cell_type": "code",
   "execution_count": 2,
   "metadata": {},
   "outputs": [],
   "source": [
    "import torch\n",
    "import torch.nn as nn\n",
    "from timm.models.layers import DropPath"
   ]
  },
  {
   "cell_type": "code",
   "execution_count": 4,
   "metadata": {},
   "outputs": [],
   "source": [
    "class Partial_conv3(nn.Module):\n",
    "    def __init__(self,dim,n_div,forward):\n",
    "        super().__init__()\n",
    "        self.dim_conv3 = dim // n_div\n",
    "        self.dim_untouched = dim - self.dim_conv3\n",
    "        self.partial_conv3 = nn.Conv2d(self.dim_conv3,self.dim_conv3,3,1,1,bias=False)\n",
    "        if forward == \"slicing\":\n",
    "            self.forward = self.forward_slicing\n",
    "        elif forward == \"split_cat\":\n",
    "            self.forward = self.forward_split_cat\n",
    "        else:\n",
    "            raise NotImplementedError\n",
    "    def forward_slicing(self,x):\n",
    "        x[:,:self.dim_conv3,:,:] = self.partial_conv3(x[:,:self.dim_conv3,:,:])\n",
    "        return x\n",
    "    def forward_split_cat(self,x):\n",
    "        x1,x2 = torch.split(x,[self.dim_conv3,self.dim_untouched],dim=1)\n",
    "        x1 = self.partial_conv3(x1)\n",
    "        x = torch.cat((x1,x2),1)\n",
    "        return x\n",
    "\n",
    "class MLPBlock(nn.Module):\n",
    "    def __init__(self,dim,n_dim,n_div,mlp_ratio,drop_path,layer_scale_init_value,\n",
    "                 act_layer,norm_layer,pconv_fw_type):\n",
    "        super().__init__()\n",
    "        self.dim = dim\n",
    "        self.mlp_ratio = mlp_ratio\n",
    "        self.drop_path = DropPath(drop_path) if drop_path > 0. else nn.Identity()\n",
    "        self.n_div = n_div\n",
    "        mlp_hidden_dim = int(dim * mlp_ratio)\n",
    "        mlp_layer = [\n",
    "            nn.Conv2d(dim,mlp_hidden_dim,1,bias=False),\n",
    "            norm_layer(mlp_hidden_dim),\n",
    "            act_layer(),\n",
    "            nn.Conv2d(mlp_hidden_dim,dim,1,bias=False)\n",
    "        ]\n",
    "        self.mlp = nn.Sequential(*mlp_layer)\n",
    "        self.spatital_mixing = Partial_conv3(\n",
    "            dim,\n",
    "            n_div,\n",
    "            pconv_fw_type\n",
    "        )\n",
    "        if layer_scale_init_value > 0:\n",
    "            self.layer_scale = nn.Parameter(layer_scale_init_value * torch.ones((dim)),requires_grad=True)\n",
    "            self.forward = self.forward_layer_scale\n",
    "        else:\n",
    "            self.forward = self.forward\n",
    "    def forward(self,x):\n",
    "        shortcut = x\n",
    "        x = self.spatital_mixing(x)\n",
    "        x = shortcut + self.drop_path(self.mlp(x))\n",
    "        return x\n",
    "    def forward_layer_scale(self,x):\n",
    "        shortcut = x\n",
    "        x = self.spatital_mixing(x)\n",
    "        x = shortcut + self.drop_path(self.layer_scale.unsqueeze(-1).unsqueeze(-1) * self.mlp(x))\n",
    "        return x\n"
   ]
  },
  {
   "cell_type": "code",
   "execution_count": null,
   "metadata": {},
   "outputs": [],
   "source": []
  }
 ],
 "metadata": {
  "kernelspec": {
   "display_name": "Python 3 (ipykernel)",
   "language": "python",
   "name": "python3"
  },
  "language_info": {
   "codemirror_mode": {
    "name": "ipython",
    "version": 3
   },
   "file_extension": ".py",
   "mimetype": "text/x-python",
   "name": "python",
   "nbconvert_exporter": "python",
   "pygments_lexer": "ipython3",
   "version": "3.8.17"
  }
 },
 "nbformat": 4,
 "nbformat_minor": 4
}
